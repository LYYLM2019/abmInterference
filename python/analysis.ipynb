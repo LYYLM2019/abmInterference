{
 "cells": [
  {
   "cell_type": "markdown",
   "metadata": {},
   "source": [
    "## Causal analysis of the interference in ABM output\n",
    "First I will navigate to the `~/Project/output` folder"
   ]
  },
  {
   "cell_type": "code",
   "execution_count": 71,
   "metadata": {},
   "outputs": [
    {
     "data": {
      "text/plain": [
       "'/home/untik/IDEAprojects/ABM_CausalInf/output'"
      ]
     },
     "execution_count": 71,
     "metadata": {},
     "output_type": "execute_result"
    }
   ],
   "source": [
    "import os\n",
    "os.getcwd()"
   ]
  },
  {
   "cell_type": "markdown",
   "metadata": {},
   "source": [
    "Change directory to one directory level up in `/output'"
   ]
  },
  {
   "cell_type": "code",
   "execution_count": 72,
   "metadata": {},
   "outputs": [
    {
     "data": {
      "text/plain": [
       "'/home/untik/IDEAprojects/ABM_CausalInf/output'"
      ]
     },
     "execution_count": 72,
     "metadata": {},
     "output_type": "execute_result"
    }
   ],
   "source": [
    "def moveDir(currentDir, folderName):\n",
    "    index = os.getcwd().find(\"python\")\n",
    "    return os.getcwd()[:39] + folderName\n",
    "\n",
    "os.chdir(moveDir(os.getcwd, \"output\"))\n",
    "os.getcwd()"
   ]
  },
  {
   "cell_type": "markdown",
   "metadata": {},
   "source": [
    "Select one file and explore it. What are the params defined for this SIM?"
   ]
  },
  {
   "cell_type": "code",
   "execution_count": 73,
   "metadata": {},
   "outputs": [
    {
     "name": "stdout",
     "output_type": "stream",
     "text": [
      "numPatients=500\n",
      "probInfected=0.005\n",
      "probVaccine=0.005\n",
      "lambda=0.3\n",
      "contagion=2.0\n",
      "infectiousness=2.0\n",
      "sexOnInfection=2.0\n",
      "sexOnVaccine=2.0\n",
      "vaccineOnInfection=2.0\n",
      "promiscuityPopulation=0.005\n",
      "maxPartnerForce=5.0\n",
      "randomForce=5.0\n",
      "partnerForce=3.0\n"
     ]
    }
   ],
   "source": [
    "import csv\n",
    "\n",
    "filename = os.listdir()[1]\n",
    "\n",
    "with open(filename, 'r') as f:\n",
    "    reader = csv.reader(f)\n",
    "    for row in reader:\n",
    "        for element in row:\n",
    "            print(element)\n",
    "        break"
   ]
  },
  {
   "cell_type": "markdown",
   "metadata": {},
   "source": [
    "Lets open the whole dataframe:"
   ]
  },
  {
   "cell_type": "code",
   "execution_count": 74,
   "metadata": {},
   "outputs": [
    {
     "data": {
      "text/html": [
       "<div>\n",
       "<style scoped>\n",
       "    .dataframe tbody tr th:only-of-type {\n",
       "        vertical-align: middle;\n",
       "    }\n",
       "\n",
       "    .dataframe tbody tr th {\n",
       "        vertical-align: top;\n",
       "    }\n",
       "\n",
       "    .dataframe thead th {\n",
       "        text-align: right;\n",
       "    }\n",
       "</style>\n",
       "<table border=\"1\" class=\"dataframe\">\n",
       "  <thead>\n",
       "    <tr style=\"text-align: right;\">\n",
       "      <th></th>\n",
       "      <th>step</th>\n",
       "      <th>agent</th>\n",
       "      <th>sex</th>\n",
       "      <th>vaccine</th>\n",
       "      <th>infection</th>\n",
       "      <th>degree</th>\n",
       "      <th>contagionDist</th>\n",
       "      <th>infectiousnessDist</th>\n",
       "      <th>indInterference</th>\n",
       "    </tr>\n",
       "  </thead>\n",
       "  <tbody>\n",
       "    <tr>\n",
       "      <th>0</th>\n",
       "      <td>0</td>\n",
       "      <td>Patient_0</td>\n",
       "      <td>False</td>\n",
       "      <td>False</td>\n",
       "      <td>False</td>\n",
       "      <td>3</td>\n",
       "      <td>0.000000</td>\n",
       "      <td>0.052170</td>\n",
       "      <td>0.000000</td>\n",
       "    </tr>\n",
       "    <tr>\n",
       "      <th>1</th>\n",
       "      <td>0</td>\n",
       "      <td>Patient_1</td>\n",
       "      <td>False</td>\n",
       "      <td>False</td>\n",
       "      <td>False</td>\n",
       "      <td>1</td>\n",
       "      <td>0.107087</td>\n",
       "      <td>0.506327</td>\n",
       "      <td>0.214174</td>\n",
       "    </tr>\n",
       "    <tr>\n",
       "      <th>2</th>\n",
       "      <td>0</td>\n",
       "      <td>Patient_2</td>\n",
       "      <td>True</td>\n",
       "      <td>False</td>\n",
       "      <td>False</td>\n",
       "      <td>2</td>\n",
       "      <td>0.067127</td>\n",
       "      <td>0.296408</td>\n",
       "      <td>0.134254</td>\n",
       "    </tr>\n",
       "    <tr>\n",
       "      <th>3</th>\n",
       "      <td>0</td>\n",
       "      <td>Patient_3</td>\n",
       "      <td>True</td>\n",
       "      <td>False</td>\n",
       "      <td>False</td>\n",
       "      <td>3</td>\n",
       "      <td>0.000000</td>\n",
       "      <td>0.000000</td>\n",
       "      <td>0.000000</td>\n",
       "    </tr>\n",
       "    <tr>\n",
       "      <th>4</th>\n",
       "      <td>0</td>\n",
       "      <td>Patient_4</td>\n",
       "      <td>False</td>\n",
       "      <td>False</td>\n",
       "      <td>False</td>\n",
       "      <td>3</td>\n",
       "      <td>0.000000</td>\n",
       "      <td>0.300357</td>\n",
       "      <td>0.000000</td>\n",
       "    </tr>\n",
       "  </tbody>\n",
       "</table>\n",
       "</div>"
      ],
      "text/plain": [
       "   step      agent    sex  vaccine  infection  degree  contagionDist  \\\n",
       "0     0  Patient_0  False    False      False       3       0.000000   \n",
       "1     0  Patient_1  False    False      False       1       0.107087   \n",
       "2     0  Patient_2   True    False      False       2       0.067127   \n",
       "3     0  Patient_3   True    False      False       3       0.000000   \n",
       "4     0  Patient_4  False    False      False       3       0.000000   \n",
       "\n",
       "   infectiousnessDist  indInterference  \n",
       "0            0.052170         0.000000  \n",
       "1            0.506327         0.214174  \n",
       "2            0.296408         0.134254  \n",
       "3            0.000000         0.000000  \n",
       "4            0.300357         0.000000  "
      ]
     },
     "execution_count": 74,
     "metadata": {},
     "output_type": "execute_result"
    }
   ],
   "source": [
    "import pandas as pd\n",
    "import matplotlib.pyplot as plt\n",
    "\n",
    "df = pd.read_csv(filename, skiprows = 1)\n",
    "df.head()"
   ]
  },
  {
   "cell_type": "markdown",
   "metadata": {},
   "source": [
    "What is the histogram of the `degree` column for the `step == 0`? "
   ]
  },
  {
   "cell_type": "code",
   "execution_count": 75,
   "metadata": {},
   "outputs": [
    {
     "data": {
      "image/png": "[encoded data removed]",
      "text/plain": [
       "<Figure size 720x432 with 1 Axes>"
      ]
     },
     "metadata": {},
     "output_type": "display_data"
    }
   ],
   "source": [
    "df[df.step == 5].degree.hist(figsize = (10,6), color = 'b')\n",
    "plt.ylabel('Counts')\n",
    "plt.xlabel('Degree of nodes')\n",
    "plt.show()"
   ]
  },
  {
   "cell_type": "markdown",
   "metadata": {},
   "source": [
    "## 1. Reorganise the dataFrame\n",
    "The infectiousness and contagion do not affect the outcome in their current time but the outcome in a posterior time.\n",
    "1. Create new, empty columns in the dataFrame: priorContagionDist, priorInfectiousnessDist, and priorIndInterference\n",
    "2. Fill new columns with prior values of: contagionDist, infectiousnessDist, indInterference"
   ]
  },
  {
   "cell_type": "code",
   "execution_count": 76,
   "metadata": {},
   "outputs": [
    {
     "data": {
      "text/html": [
       "<div>\n",
       "<style scoped>\n",
       "    .dataframe tbody tr th:only-of-type {\n",
       "        vertical-align: middle;\n",
       "    }\n",
       "\n",
       "    .dataframe tbody tr th {\n",
       "        vertical-align: top;\n",
       "    }\n",
       "\n",
       "    .dataframe thead th {\n",
       "        text-align: right;\n",
       "    }\n",
       "</style>\n",
       "<table border=\"1\" class=\"dataframe\">\n",
       "  <thead>\n",
       "    <tr style=\"text-align: right;\">\n",
       "      <th></th>\n",
       "      <th>step</th>\n",
       "      <th>agent</th>\n",
       "      <th>sex</th>\n",
       "      <th>vaccine</th>\n",
       "      <th>infection</th>\n",
       "      <th>degree</th>\n",
       "      <th>contagionDist</th>\n",
       "      <th>infectiousnessDist</th>\n",
       "      <th>indInterference</th>\n",
       "      <th>priorContagionDist</th>\n",
       "      <th>priorInfectiousnessDist</th>\n",
       "      <th>priorIndInterference</th>\n",
       "    </tr>\n",
       "  </thead>\n",
       "  <tbody>\n",
       "    <tr>\n",
       "      <th>0</th>\n",
       "      <td>0</td>\n",
       "      <td>Patient_0</td>\n",
       "      <td>False</td>\n",
       "      <td>False</td>\n",
       "      <td>False</td>\n",
       "      <td>3</td>\n",
       "      <td>0.000000</td>\n",
       "      <td>0.052170</td>\n",
       "      <td>0.000000</td>\n",
       "      <td></td>\n",
       "      <td></td>\n",
       "      <td></td>\n",
       "    </tr>\n",
       "    <tr>\n",
       "      <th>1</th>\n",
       "      <td>0</td>\n",
       "      <td>Patient_1</td>\n",
       "      <td>False</td>\n",
       "      <td>False</td>\n",
       "      <td>False</td>\n",
       "      <td>1</td>\n",
       "      <td>0.107087</td>\n",
       "      <td>0.506327</td>\n",
       "      <td>0.214174</td>\n",
       "      <td></td>\n",
       "      <td></td>\n",
       "      <td></td>\n",
       "    </tr>\n",
       "    <tr>\n",
       "      <th>2</th>\n",
       "      <td>0</td>\n",
       "      <td>Patient_2</td>\n",
       "      <td>True</td>\n",
       "      <td>False</td>\n",
       "      <td>False</td>\n",
       "      <td>2</td>\n",
       "      <td>0.067127</td>\n",
       "      <td>0.296408</td>\n",
       "      <td>0.134254</td>\n",
       "      <td></td>\n",
       "      <td></td>\n",
       "      <td></td>\n",
       "    </tr>\n",
       "    <tr>\n",
       "      <th>3</th>\n",
       "      <td>0</td>\n",
       "      <td>Patient_3</td>\n",
       "      <td>True</td>\n",
       "      <td>False</td>\n",
       "      <td>False</td>\n",
       "      <td>3</td>\n",
       "      <td>0.000000</td>\n",
       "      <td>0.000000</td>\n",
       "      <td>0.000000</td>\n",
       "      <td></td>\n",
       "      <td></td>\n",
       "      <td></td>\n",
       "    </tr>\n",
       "    <tr>\n",
       "      <th>4</th>\n",
       "      <td>0</td>\n",
       "      <td>Patient_4</td>\n",
       "      <td>False</td>\n",
       "      <td>False</td>\n",
       "      <td>False</td>\n",
       "      <td>3</td>\n",
       "      <td>0.000000</td>\n",
       "      <td>0.300357</td>\n",
       "      <td>0.000000</td>\n",
       "      <td></td>\n",
       "      <td></td>\n",
       "      <td></td>\n",
       "    </tr>\n",
       "  </tbody>\n",
       "</table>\n",
       "</div>"
      ],
      "text/plain": [
       "   step      agent    sex  vaccine  infection  degree  contagionDist  \\\n",
       "0     0  Patient_0  False    False      False       3       0.000000   \n",
       "1     0  Patient_1  False    False      False       1       0.107087   \n",
       "2     0  Patient_2   True    False      False       2       0.067127   \n",
       "3     0  Patient_3   True    False      False       3       0.000000   \n",
       "4     0  Patient_4  False    False      False       3       0.000000   \n",
       "\n",
       "   infectiousnessDist  indInterference priorContagionDist  \\\n",
       "0            0.052170         0.000000                      \n",
       "1            0.506327         0.214174                      \n",
       "2            0.296408         0.134254                      \n",
       "3            0.000000         0.000000                      \n",
       "4            0.300357         0.000000                      \n",
       "\n",
       "  priorInfectiousnessDist priorIndInterference  \n",
       "0                                               \n",
       "1                                               \n",
       "2                                               \n",
       "3                                               \n",
       "4                                               "
      ]
     },
     "execution_count": 76,
     "metadata": {},
     "output_type": "execute_result"
    }
   ],
   "source": [
    "newCols = ['priorContagionDist','priorInfectiousnessDist','priorIndInterference']\n",
    "\n",
    "for i in newCols:\n",
    "    df[i] = \"\"\n",
    "\n",
    "df.head()"
   ]
  },
  {
   "cell_type": "code",
   "execution_count": 77,
   "metadata": {},
   "outputs": [
    {
     "name": "stdout",
     "output_type": "stream",
     "text": [
      "CPU times: user 10.4 s, sys: 15.8 ms, total: 10.4 s\n",
      "Wall time: 10.4 s\n"
     ]
    }
   ],
   "source": [
    "%%time\n",
    "\n",
    "i = 1\n",
    "cols = ['contagionDist','infectiousnessDist','indInterference']\n",
    "\n",
    "while i < len(df.step.value_counts()):\n",
    "    for k in range(len(cols)):\n",
    "        df.loc[df.step == i, newCols[k]] = df.loc[df.step == i-1, cols[k]].values\n",
    "    i +=1"
   ]
  },
  {
   "cell_type": "markdown",
   "metadata": {},
   "source": [
    "## 2. TableOne\n",
    "What is the Standard Mean Difference of each variable with regards to `vaccine`?\n",
    "\n",
    "TableOne src = https://pypi.org/project/tableone/ with both parametric and non-parametric tests:"
   ]
  },
  {
   "cell_type": "code",
   "execution_count": 78,
   "metadata": {},
   "outputs": [
    {
     "data": {
      "text/html": [
       "<div>\n",
       "<style scoped>\n",
       "    .dataframe tbody tr th:only-of-type {\n",
       "        vertical-align: middle;\n",
       "    }\n",
       "\n",
       "    .dataframe tbody tr th {\n",
       "        vertical-align: top;\n",
       "    }\n",
       "\n",
       "    .dataframe thead tr th {\n",
       "        text-align: left;\n",
       "    }\n",
       "\n",
       "    .dataframe thead tr:last-of-type th {\n",
       "        text-align: right;\n",
       "    }\n",
       "</style>\n",
       "<table border=\"1\" class=\"dataframe\">\n",
       "  <thead>\n",
       "    <tr>\n",
       "      <th></th>\n",
       "      <th></th>\n",
       "      <th colspan=\"5\" halign=\"left\">Grouped by vaccine</th>\n",
       "    </tr>\n",
       "    <tr>\n",
       "      <th></th>\n",
       "      <th></th>\n",
       "      <th>isnull</th>\n",
       "      <th>False</th>\n",
       "      <th>True</th>\n",
       "      <th>pval</th>\n",
       "      <th>ptest</th>\n",
       "    </tr>\n",
       "    <tr>\n",
       "      <th>variable</th>\n",
       "      <th>level</th>\n",
       "      <th></th>\n",
       "      <th></th>\n",
       "      <th></th>\n",
       "      <th></th>\n",
       "      <th></th>\n",
       "    </tr>\n",
       "  </thead>\n",
       "  <tbody>\n",
       "    <tr>\n",
       "      <th>n</th>\n",
       "      <th></th>\n",
       "      <td></td>\n",
       "      <td>232</td>\n",
       "      <td>268</td>\n",
       "      <td></td>\n",
       "      <td></td>\n",
       "    </tr>\n",
       "    <tr>\n",
       "      <th rowspan=\"2\" valign=\"top\">sex</th>\n",
       "      <th>False</th>\n",
       "      <td>0</td>\n",
       "      <td>141 (60.78)</td>\n",
       "      <td>91 (33.96)</td>\n",
       "      <td>0.000</td>\n",
       "      <td>Chi-squared</td>\n",
       "    </tr>\n",
       "    <tr>\n",
       "      <th>True</th>\n",
       "      <td></td>\n",
       "      <td>91 (39.22)</td>\n",
       "      <td>177 (66.04)</td>\n",
       "      <td></td>\n",
       "      <td></td>\n",
       "    </tr>\n",
       "    <tr>\n",
       "      <th>infection</th>\n",
       "      <th>True</th>\n",
       "      <td>0</td>\n",
       "      <td>232 (100.0)</td>\n",
       "      <td>268 (100.0)</td>\n",
       "      <td>1.000</td>\n",
       "      <td>Chi-squared</td>\n",
       "    </tr>\n",
       "    <tr>\n",
       "      <th>degree</th>\n",
       "      <th></th>\n",
       "      <td>0</td>\n",
       "      <td>1.38 (0.76)</td>\n",
       "      <td>1.52 (0.76)</td>\n",
       "      <td>0.036</td>\n",
       "      <td>Two Sample T-test</td>\n",
       "    </tr>\n",
       "    <tr>\n",
       "      <th>contagionDist</th>\n",
       "      <th></th>\n",
       "      <td>0</td>\n",
       "      <td>19.22 (4.97)</td>\n",
       "      <td>19.67 (5.03)</td>\n",
       "      <td>0.320</td>\n",
       "      <td>Two Sample T-test</td>\n",
       "    </tr>\n",
       "    <tr>\n",
       "      <th>infectiousnessDist</th>\n",
       "      <th></th>\n",
       "      <td>0</td>\n",
       "      <td>10.39 (2.80)</td>\n",
       "      <td>10.60 (2.85)</td>\n",
       "      <td>0.406</td>\n",
       "      <td>Two Sample T-test</td>\n",
       "    </tr>\n",
       "    <tr>\n",
       "      <th>indInterference</th>\n",
       "      <th></th>\n",
       "      <td>0</td>\n",
       "      <td>17.65 (4.49)</td>\n",
       "      <td>18.12 (4.55)</td>\n",
       "      <td>0.244</td>\n",
       "      <td>Two Sample T-test</td>\n",
       "    </tr>\n",
       "    <tr>\n",
       "      <th>priorContagionDist</th>\n",
       "      <th></th>\n",
       "      <td>0</td>\n",
       "      <td>19.39 (4.98)</td>\n",
       "      <td>19.76 (5.03)</td>\n",
       "      <td>0.400</td>\n",
       "      <td>Two Sample T-test</td>\n",
       "    </tr>\n",
       "    <tr>\n",
       "      <th>priorInfectiousnessDist</th>\n",
       "      <th></th>\n",
       "      <td>0</td>\n",
       "      <td>10.42 (2.81)</td>\n",
       "      <td>10.55 (2.81)</td>\n",
       "      <td>0.589</td>\n",
       "      <td>Two Sample T-test</td>\n",
       "    </tr>\n",
       "    <tr>\n",
       "      <th>priorIndInterference</th>\n",
       "      <th></th>\n",
       "      <td>0</td>\n",
       "      <td>17.93 (4.52)</td>\n",
       "      <td>18.42 (4.60)</td>\n",
       "      <td>0.237</td>\n",
       "      <td>Two Sample T-test</td>\n",
       "    </tr>\n",
       "  </tbody>\n",
       "</table>\n",
       "</div><br />[1] Warning, Hartigans Dip Test reports possible multimodal distributions for: degree.<br />[2] Warning, test for normality reports non-normal distributions for: contagionDist, indInterference, infectiousnessDist, priorContagionDist, priorIndInterference, priorInfectiousnessDist.<br />"
      ],
      "text/plain": [
       "                              Grouped by vaccine                                                      \n",
       "                                          isnull         False          True   pval              ptest\n",
       "variable                level                                                                         \n",
       "n                                                          232           268                          \n",
       "sex                     False                  0   141 (60.78)    91 (33.96)  0.000        Chi-squared\n",
       "                        True                        91 (39.22)   177 (66.04)                          \n",
       "infection               True                   0   232 (100.0)   268 (100.0)  1.000        Chi-squared\n",
       "degree                                         0   1.38 (0.76)   1.52 (0.76)  0.036  Two Sample T-test\n",
       "contagionDist                                  0  19.22 (4.97)  19.67 (5.03)  0.320  Two Sample T-test\n",
       "infectiousnessDist                             0  10.39 (2.80)  10.60 (2.85)  0.406  Two Sample T-test\n",
       "indInterference                                0  17.65 (4.49)  18.12 (4.55)  0.244  Two Sample T-test\n",
       "priorContagionDist                             0  19.39 (4.98)  19.76 (5.03)  0.400  Two Sample T-test\n",
       "priorInfectiousnessDist                        0  10.42 (2.81)  10.55 (2.81)  0.589  Two Sample T-test\n",
       "priorIndInterference                           0  17.93 (4.52)  18.42 (4.60)  0.237  Two Sample T-test\n",
       "[1] Warning, Hartigans Dip Test reports possible multimodal distributions for: degree.\n",
       "[2] Warning, test for normality reports non-normal distributions for: contagionDist, indInterference, infectiousnessDist, priorContagionDist, priorIndInterference, priorInfectiousnessDist."
      ]
     },
     "execution_count": 78,
     "metadata": {},
     "output_type": "execute_result"
    }
   ],
   "source": [
    "from tableone import TableOne\n",
    "\n",
    "columns = ['sex','vaccine','infection','degree',\n",
    "           'contagionDist','infectiousnessDist','indInterference',\n",
    "           'priorContagionDist','priorInfectiousnessDist','priorIndInterference',\n",
    "          ]\n",
    "categorical = ['sex','infection']\n",
    "groupby = 'vaccine'\n",
    "\n",
    "mytable = TableOne(df[df.step == 100], columns, categorical, groupby, pval = True)\n",
    "mytable"
   ]
  },
  {
   "cell_type": "code",
   "execution_count": null,
   "metadata": {},
   "outputs": [],
   "source": [
    "categorical = ['sex','infection']\n",
    "groupby = 'vaccine'\n",
    "nonnormal = columns\n",
    "\n",
    "mytable = TableOne(df[df.step == 200], columns, categorical, groupby, nonnormal, pval = True)\n",
    "mytable"
   ]
  },
  {
   "cell_type": "markdown",
   "metadata": {},
   "source": [
    "## 3. Propensity score of confounders\n",
    "What is the causal effect of the confounder, sex, on the treatment, vaccine?\n",
    "Since sex looks like a confounder, it will be necessary to calculate a propersity score `ps` using a Logit regression in a IPTW method.\n",
    "\n",
    "Statsmodels src = https://www.statsmodels.org/stable/index.html\n",
    "\n",
    "Verbosity of `statsmodels`: https://stackoverflow.com/questions/23018306/how-to-silence-statsmodels-fit-in-python"
   ]
  },
  {
   "cell_type": "code",
   "execution_count": 80,
   "metadata": {},
   "outputs": [],
   "source": [
    "import statsmodels.api as sm"
   ]
  },
  {
   "cell_type": "code",
   "execution_count": 81,
   "metadata": {},
   "outputs": [
    {
     "data": {
      "text/html": [
       "<table class=\"simpletable\">\n",
       "<caption>Logit Regression Results</caption>\n",
       "<tr>\n",
       "  <th>Dep. Variable:</th>      <td>vaccine</td>     <th>  No. Observations:  </th>  <td>   500</td>  \n",
       "</tr>\n",
       "<tr>\n",
       "  <th>Model:</th>               <td>Logit</td>      <th>  Df Residuals:      </th>  <td>   498</td>  \n",
       "</tr>\n",
       "<tr>\n",
       "  <th>Method:</th>               <td>MLE</td>       <th>  Df Model:          </th>  <td>     1</td>  \n",
       "</tr>\n",
       "<tr>\n",
       "  <th>Date:</th>          <td>Sun, 24 Jun 2018</td> <th>  Pseudo R-squ.:     </th>  <td>0.07262</td> \n",
       "</tr>\n",
       "<tr>\n",
       "  <th>Time:</th>              <td>10:50:55</td>     <th>  Log-Likelihood:    </th> <td> -158.73</td> \n",
       "</tr>\n",
       "<tr>\n",
       "  <th>converged:</th>           <td>True</td>       <th>  LL-Null:           </th> <td> -171.16</td> \n",
       "</tr>\n",
       "<tr>\n",
       "  <th> </th>                      <td> </td>        <th>  LLR p-value:       </th> <td>6.164e-07</td>\n",
       "</tr>\n",
       "</table>\n",
       "<table class=\"simpletable\">\n",
       "<tr>\n",
       "    <td></td>       <th>coef</th>     <th>std err</th>      <th>z</th>      <th>P>|z|</th>  <th>[0.025</th>    <th>0.975]</th>  \n",
       "</tr>\n",
       "<tr>\n",
       "  <th>const</th> <td>    1.5094</td> <td>    0.171</td> <td>    8.852</td> <td> 0.000</td> <td>    1.175</td> <td>    1.844</td>\n",
       "</tr>\n",
       "<tr>\n",
       "  <th>sex</th>   <td>    1.5509</td> <td>    0.341</td> <td>    4.548</td> <td> 0.000</td> <td>    0.882</td> <td>    2.219</td>\n",
       "</tr>\n",
       "</table>"
      ],
      "text/plain": [
       "<class 'statsmodels.iolib.summary.Summary'>\n",
       "\"\"\"\n",
       "                           Logit Regression Results                           \n",
       "==============================================================================\n",
       "Dep. Variable:                vaccine   No. Observations:                  500\n",
       "Model:                          Logit   Df Residuals:                      498\n",
       "Method:                           MLE   Df Model:                            1\n",
       "Date:                Sun, 24 Jun 2018   Pseudo R-squ.:                 0.07262\n",
       "Time:                        10:50:55   Log-Likelihood:                -158.73\n",
       "converged:                       True   LL-Null:                       -171.16\n",
       "                                        LLR p-value:                 6.164e-07\n",
       "==============================================================================\n",
       "                 coef    std err          z      P>|z|      [0.025      0.975]\n",
       "------------------------------------------------------------------------------\n",
       "const          1.5094      0.171      8.852      0.000       1.175       1.844\n",
       "sex            1.5509      0.341      4.548      0.000       0.882       2.219\n",
       "==============================================================================\n",
       "\"\"\""
      ]
     },
     "execution_count": 81,
     "metadata": {},
     "output_type": "execute_result"
    }
   ],
   "source": [
    "dat = df[df.step == 299]\n",
    "result = sm.Logit(endog = dat.vaccine,\n",
    "                  exog = sm.add_constant(dat[['sex']].astype(float)),\n",
    "                 ).fit(disp = 0)\n",
    "result.summary()"
   ]
  },
  {
   "cell_type": "markdown",
   "metadata": {},
   "source": [
    "What if I don't include the constant in `statsmodels` library?"
   ]
  },
  {
   "cell_type": "code",
   "execution_count": 82,
   "metadata": {},
   "outputs": [],
   "source": [
    "i = 10\n",
    "sex = []\n",
    "sexCnt = []\n",
    "sexTime = []\n",
    "\n",
    "while i < 299:\n",
    "    dat = df[df.step == i]\n",
    "    depvar = ['sex']\n",
    "    \n",
    "    try:\n",
    "        results = sm.Logit(endog = dat.vaccine, exog = dat[depvar].astype(float)).fit(disp = 0)\n",
    "        resultsCnt = sm.Logit(endog = dat.vaccine, exog = sm.add_constant(dat[depvar].astype(float))).fit(disp = 0)\n",
    "    except:\n",
    "        print('No vaccinated')\n",
    "    \n",
    "    sex.append([results.params[0], resultsCnt.params[1]])\n",
    "    sexTime.append([i,resultsCnt.params[1]])\n",
    "    i +=1"
   ]
  },
  {
   "cell_type": "markdown",
   "metadata": {},
   "source": [
    "The causal effect of `sex` on `vaccine` is constant though the simulation (look at parameters above) but it is a stochastic simulation, how are the histograms?\n",
    "\n",
    "A recall from Odds Ratio, probabilities, and Logit regression: https://www.youtube.com/watch?v=8nm0G-1uJzA"
   ]
  },
  {
   "cell_type": "code",
   "execution_count": 83,
   "metadata": {},
   "outputs": [
    {
     "data": {
      "image/png": "[encoded data removed]",
      "text/plain": [
       "<Figure size 1368x432 with 2 Axes>"
      ]
     },
     "metadata": {},
     "output_type": "display_data"
    }
   ],
   "source": [
    "import numpy as np\n",
    "\n",
    "draw = pd.DataFrame(np.exp(sex), columns=['sexALONE','sexWITHintercept'])\n",
    "draw.hist(figsize = (19,6), color = 'b', bins = 30)\n",
    "plt.xlabel('Odds (vaccine = true) for sex = true')\n",
    "plt.show()"
   ]
  },
  {
   "cell_type": "markdown",
   "metadata": {},
   "source": [
    "How the Odds Ratio varies thoughout the simulation?"
   ]
  },
  {
   "cell_type": "code",
   "execution_count": 84,
   "metadata": {},
   "outputs": [
    {
     "data": {
      "text/plain": [
       "array([95])"
      ]
     },
     "execution_count": 84,
     "metadata": {},
     "output_type": "execute_result"
    }
   ],
   "source": [
    "sum(df.loc[df.step == 40, ['sex']].values * df.loc[df.step == 40, ['vaccine']].values)"
   ]
  },
  {
   "cell_type": "code",
   "execution_count": 85,
   "metadata": {},
   "outputs": [
    {
     "data": {
      "text/plain": [
       "array([47])"
      ]
     },
     "execution_count": 85,
     "metadata": {},
     "output_type": "execute_result"
    }
   ],
   "source": [
    "sum(np.invert(df.loc[df.step == 40, ['sex']].values) * df.loc[df.step == 40, ['vaccine']].values)"
   ]
  },
  {
   "cell_type": "code",
   "execution_count": 86,
   "metadata": {},
   "outputs": [],
   "source": [
    "i = 0\n",
    "ratio = []\n",
    "\n",
    "while i < 299:\n",
    "    try:\n",
    "        sexVaccine = sum(df.loc[df.step == i, ['sex']].values * df.loc[df.step == i, ['vaccine']].values)[0]\n",
    "        NoSexVaccine = sum(np.invert(df.loc[df.step == i, ['sex']].values) * df.loc[df.step == i, ['vaccine']].values)[0]\n",
    "        \n",
    "        ratio.append([i, sexVaccine/NoSexVaccine])\n",
    "        i +=1\n",
    "    except:\n",
    "        print('No enough sex 0 with vaccine')\n",
    "        i +=1"
   ]
  },
  {
   "cell_type": "code",
   "execution_count": 91,
   "metadata": {},
   "outputs": [
    {
     "data": {
      "image/png": "[encoded data removed]",
      "text/plain": [
       "<Figure size 1440x288 with 1 Axes>"
      ]
     },
     "metadata": {},
     "output_type": "display_data"
    },
    {
     "data": {
      "image/png": "[encoded data removed]",
      "text/plain": [
       "<Figure size 1440x288 with 1 Axes>"
      ]
     },
     "metadata": {},
     "output_type": "display_data"
    }
   ],
   "source": [
    "draw2 = pd.DataFrame(sexTime, columns = ['step','coef'])\n",
    "draw3 = pd.DataFrame(ratio, columns = ['step','ratio'])\n",
    "\n",
    "figsize = (20,4)\n",
    "\n",
    "plt.figure(figsize=figsize)\n",
    "plt.scatter(draw2.step, np.exp(draw2.coef), color = 'b', label = 'Measured causal effect')\n",
    "plt.axhline(2, color = 'green', label = 'True causal effect')\n",
    "plt.xlabel('Simulation step')\n",
    "plt.ylabel('OR')\n",
    "plt.ylim(0,6)\n",
    "plt.legend()\n",
    "plt.show()\n",
    "\n",
    "plt.figure(figsize=figsize)\n",
    "plt.scatter(draw3.step, draw3.ratio, color = 'r', label = 'Measured causal effect')\n",
    "plt.axhline(2, color = 'green', label = 'True causal effect')\n",
    "plt.xlabel('Simulation step')\n",
    "plt.ylabel('VaccineANDsex1 / vaccineANDsex0')\n",
    "plt.ylim(0,6)\n",
    "plt.legend()\n",
    "plt.show()"
   ]
  },
  {
   "cell_type": "markdown",
   "metadata": {},
   "source": [
    "The `sexALONE` graph is wrong.\n",
    "\n",
    "What is the mean causal effect and the CI?"
   ]
  },
  {
   "cell_type": "code",
   "execution_count": 88,
   "metadata": {},
   "outputs": [
    {
     "name": "stdout",
     "output_type": "stream",
     "text": [
      "CI and mean for OR:\n",
      "(3.497314398187513, 3.6187548626346415, 3.74019532708177)\n",
      "\n",
      "CI and mean for ratio:\n",
      "(1.727074720088913, 1.7642660062872517, 1.8014572924855905)\n"
     ]
    }
   ],
   "source": [
    "import numpy as np\n",
    "import scipy as sp\n",
    "import scipy.stats\n",
    "\n",
    "def meanCI(data, confidence=0.95):\n",
    "    a = 1.0*np.array(data)\n",
    "    n = len(a)\n",
    "    m, se = np.mean(a), scipy.stats.sem(a)\n",
    "    h = se * sp.stats.t._ppf((1+confidence)/2., n-1)\n",
    "    return m-h, m, m+h\n",
    "\n",
    "print('CI and mean for OR:')\n",
    "print(meanCI(draw.sexWITHintercept))\n",
    "print('\\nCI and mean for ratio:')\n",
    "print(meanCI(draw3.ratio[10:]))"
   ]
  },
  {
   "cell_type": "code",
   "execution_count": 89,
   "metadata": {},
   "outputs": [],
   "source": [
    "def OR(prob, causal):\n",
    "    this = (causal * prob * (1 - prob)) /( prob * (1 - causal * prob))\n",
    "    return this"
   ]
  },
  {
   "cell_type": "code",
   "execution_count": 90,
   "metadata": {},
   "outputs": [
    {
     "data": {
      "text/plain": [
       "2.002004008016032"
      ]
     },
     "execution_count": 90,
     "metadata": {},
     "output_type": "execute_result"
    }
   ],
   "source": [
    "OR(0.001, 2)"
   ]
  }
 ],
 "metadata": {
  "kernelspec": {
   "display_name": "Python 3",
   "language": "python",
   "name": "python3"
  },
  "language_info": {
   "codemirror_mode": {
    "name": "ipython",
    "version": 3
   },
   "file_extension": ".py",
   "mimetype": "text/x-python",
   "name": "python",
   "nbconvert_exporter": "python",
   "pygments_lexer": "ipython3",
   "version": "3.6.5"
  }
 },
 "nbformat": 4,
 "nbformat_minor": 2
}
